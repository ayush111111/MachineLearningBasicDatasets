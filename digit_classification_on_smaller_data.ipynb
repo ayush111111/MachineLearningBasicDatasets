{
 "cells": [
  {
   "cell_type": "code",
   "execution_count": 115,
   "metadata": {},
   "outputs": [],
   "source": [
    "import numpy as np\n",
    "import pandas as pd\n",
    "\n",
    "from matplotlib import pyplot as plt"
   ]
  },
  {
   "cell_type": "code",
   "execution_count": 116,
   "metadata": {},
   "outputs": [],
   "source": [
    "from sklearn.datasets import load_digits\n",
    "from sklearn.model_selection import train_test_split"
   ]
  },
  {
   "cell_type": "code",
   "execution_count": null,
   "metadata": {},
   "outputs": [],
   "source": []
  },
  {
   "cell_type": "code",
   "execution_count": 117,
   "metadata": {},
   "outputs": [],
   "source": [
    "dig=load_digits()"
   ]
  },
  {
   "cell_type": "code",
   "execution_count": 118,
   "metadata": {},
   "outputs": [],
   "source": [
    "onehot_target=pd.get_dummies(dig.target)"
   ]
  },
  {
   "cell_type": "code",
   "execution_count": 119,
   "metadata": {},
   "outputs": [],
   "source": [
    "x_train,x_val,y_train,y_val=train_test_split(dig.data,onehot_target,test_size=0.1)"
   ]
  },
  {
   "cell_type": "code",
   "execution_count": null,
   "metadata": {},
   "outputs": [],
   "source": []
  },
  {
   "cell_type": "code",
   "execution_count": null,
   "metadata": {},
   "outputs": [],
   "source": [
    "\n"
   ]
  },
  {
   "cell_type": "code",
   "execution_count": 120,
   "metadata": {},
   "outputs": [],
   "source": [
    "def sigmoid(s):\n",
    "    return 1/(1+np.exp(-s)) \n",
    "def sigmoid_derv(s):\n",
    "    return s*(1-s)\n"
   ]
  },
  {
   "cell_type": "code",
   "execution_count": 121,
   "metadata": {},
   "outputs": [],
   "source": [
    "def softmax(s):\n",
    "    exps=np.exp(s-np.max(s,axis=1,keepdims=True))\n",
    "    return exps/np.sum(exps,axis=1,keepdims=True )"
   ]
  },
  {
   "cell_type": "code",
   "execution_count": 122,
   "metadata": {},
   "outputs": [],
   "source": [
    "def cross_entropy(pred,real):\n",
    "    n_samples=real.shape[0]\n",
    "    res=pred-real\n",
    "    return res/n_samples"
   ]
  },
  {
   "cell_type": "code",
   "execution_count": 123,
   "metadata": {},
   "outputs": [],
   "source": [
    "def error(pred,real):\n",
    "    n_samples=real.shape[0]\n",
    "    logp=-np.log(pred[np.arange(n_samples),real.argmax(axis=1)])\n",
    "    loss=np.sum(logp)/n_samples\n",
    "    return loss\n",
    "\n",
    "#error"
   ]
  },
  {
   "cell_type": "code",
   "execution_count": 124,
   "metadata": {},
   "outputs": [],
   "source": [
    "\n",
    "class MyNN:\n",
    "    def __init__(self,x,y):\n",
    "        #initialising weights and biases\n",
    "        self.x=x\n",
    "\n",
    "        neurons=128 #aka a\n",
    "        self.lr=0.5\n",
    "        ip_dim=x.shape[1]\n",
    "        op_dim=y.shape[1]\n",
    "        self.w1=np.random.randn(ip_dim,neurons)\n",
    "        self.b1=np.zeros((1,neurons))\n",
    "        self.w2=np.random.randn(neurons,neurons)\n",
    "        self.b2=np.zeros((1,neurons))\n",
    "        self.w3=np.random.randn(neurons,op_dim)\n",
    "        self.b3=np.zeros((1,op_dim))\n",
    "        self.y=y\n",
    "        \n",
    "    def feedforward(self):\n",
    "        z1=np.dot(self.x,self.w1)+self.b1\n",
    "        self.a1=sigmoid(z1)\n",
    "        z2=np.dot(self.a1,self.w2)+self.b2\n",
    "        self.a2=sigmoid(z2)\n",
    "        z3=np.dot(self.a2,self.w3)+self.b3\n",
    "        self.a3=softmax(z3)#softmax returns values betn 0 to1 which have sum 1,sum 1 is necessary as given number is A NUBER BETWEEEN 0 TO 9\n",
    "\n",
    "    def backprop(self):\n",
    "        loss=error(self.a3,self.y)\n",
    "        a3_delta=cross_entropy(self.a3,self.y)#w3\n",
    "        z2_delta=np.dot(a3_delta,self.w3.T)\n",
    "        a2_delta=z2_delta*sigmoid_derv(self.a2)#w2\n",
    "        z1_delta=np.dot(a2_delta,self.w2.T)\n",
    "        a1_delta=z1_delta*sigmoid_derv(self.a1)\n",
    "\n",
    "\n",
    "        self.w3 -= self.lr*np.dot(self.a2.T,a3_delta)\n",
    "        self.b3 -= self.lr*np.sum(a3_delta,axis=0,keepdims=True)\n",
    "        self.w2 -= self.lr*np.dot(self.a1.T,a2_delta)\n",
    "        self.b2 -= self.lr*np.sum(a2_delta,axis=0)\n",
    "        self.w1 -= self.lr*np.dot(self.x.T,a1_delta)\n",
    "        self.b1 -= self.lr*np.sum(a1_delta,axis=0)\n",
    "        \n",
    "    def predict(self,data):\n",
    "        self.x=data\n",
    "        self.feedforward()\n",
    "        return self.a3.argmax()\n"
   ]
  },
  {
   "cell_type": "code",
   "execution_count": null,
   "metadata": {},
   "outputs": [],
   "source": []
  },
  {
   "cell_type": "code",
   "execution_count": null,
   "metadata": {},
   "outputs": [],
   "source": []
  },
  {
   "cell_type": "code",
   "execution_count": null,
   "metadata": {},
   "outputs": [],
   "source": [
    "\n"
   ]
  },
  {
   "cell_type": "code",
   "execution_count": 125,
   "metadata": {},
   "outputs": [],
   "source": [
    "model = MyNN(x_train,np.array(y_train))"
   ]
  },
  {
   "cell_type": "code",
   "execution_count": 126,
   "metadata": {},
   "outputs": [],
   "source": [
    "epochs=1500\n",
    "for x in range(epochs):\n",
    "    model.feedforward()\n",
    "    model.backprop()\n"
   ]
  },
  {
   "cell_type": "code",
   "execution_count": 127,
   "metadata": {},
   "outputs": [],
   "source": [
    "def get_acc(x,y):\n",
    "    acc=0\n",
    "    for xx,yy in zip(x,y):\n",
    "        s=model.predict(xx)\n",
    "        if s==np.argmax(yy):\n",
    "            acc +=1\n",
    "    return acc/len(x)*100"
   ]
  },
  {
   "cell_type": "code",
   "execution_count": 128,
   "metadata": {},
   "outputs": [
    {
     "data": {
      "text/plain": [
       "93.33333333333333"
      ]
     },
     "execution_count": 128,
     "metadata": {},
     "output_type": "execute_result"
    }
   ],
   "source": [
    "get_acc(x_val, np.array(y_val))"
   ]
  },
  {
   "cell_type": "code",
   "execution_count": null,
   "metadata": {},
   "outputs": [],
   "source": []
  }
 ],
 "metadata": {
  "kernelspec": {
   "display_name": "Python 3",
   "language": "python",
   "name": "python3"
  },
  "language_info": {
   "codemirror_mode": {
    "name": "ipython",
    "version": 3
   },
   "file_extension": ".py",
   "mimetype": "text/x-python",
   "name": "python",
   "nbconvert_exporter": "python",
   "pygments_lexer": "ipython3",
   "version": "3.6.8"
  }
 },
 "nbformat": 4,
 "nbformat_minor": 2
}
