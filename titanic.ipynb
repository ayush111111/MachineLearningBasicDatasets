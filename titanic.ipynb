{
 "cells": [
  {
   "cell_type": "code",
   "execution_count": 79,
   "metadata": {},
   "outputs": [],
   "source": [
    "import numpy as np\n",
    "import pandas as pd\n",
    "import matplotlib.pyplot as plt"
   ]
  },
  {
   "cell_type": "code",
   "execution_count": 80,
   "metadata": {},
   "outputs": [],
   "source": [
    "train = pd.read_csv('train.csv')\n",
    "test = pd.read_csv('test.csv')\n",
    "test_gender = pd.read_csv('gender_submission.csv')\n"
   ]
  },
  {
   "cell_type": "code",
   "execution_count": 81,
   "metadata": {},
   "outputs": [],
   "source": [
    "train=train.drop([\"Name\",\"PassengerId\",\"Cabin\",\"Ticket\"],axis=1)\n",
    "test=test.drop([\"Name\",\"PassengerId\",\"Cabin\",\"Ticket\"],axis=1)\n"
   ]
  },
  {
   "cell_type": "code",
   "execution_count": 82,
   "metadata": {},
   "outputs": [],
   "source": [
    "#values in age and embarked missing\n",
    "#use fill.na\n",
    "#what to fill with?\n",
    "# mean of the specific column\n",
    "mean_value=train['Age'].mean()\n",
    "train['Age'] = train['Age'].fillna(mean_value)\n",
    "mean_value1=test['Age'].mean()\n",
    "test['Age'] = test['Age'].fillna(mean_value1)\n",
    "\n",
    "\n"
   ]
  },
  {
   "cell_type": "code",
   "execution_count": 83,
   "metadata": {},
   "outputs": [
    {
     "data": {
      "text/plain": [
       "count     891\n",
       "unique      3\n",
       "top         S\n",
       "freq      646\n",
       "Name: Embarked, dtype: object"
      ]
     },
     "execution_count": 83,
     "metadata": {},
     "output_type": "execute_result"
    }
   ],
   "source": [
    "#S most common and  2 missing\n",
    "\n",
    "train['Embarked'] = train['Embarked'].fillna('S')\n",
    "\n",
    "test['Embarked'] = test['Embarked'].fillna('S')\n",
    "train['Embarked'].describe()"
   ]
  },
  {
   "cell_type": "code",
   "execution_count": 84,
   "metadata": {},
   "outputs": [],
   "source": [
    "genders = {\"male\": 0, \"female\": 1}\n",
    "data = [train, test]\n",
    "\n",
    "for dataset in data:\n",
    "    dataset['Sex'] = dataset['Sex'].map(genders)"
   ]
  },
  {
   "cell_type": "code",
   "execution_count": 85,
   "metadata": {},
   "outputs": [],
   "source": [
    "station = {\"S\": 0, \"C\": 1, \"Q\": 2}\n",
    "for dataset in data:\n",
    "    dataset['Embarked']=dataset['Embarked'].map(station)"
   ]
  },
  {
   "cell_type": "code",
   "execution_count": 86,
   "metadata": {},
   "outputs": [],
   "source": [
    "#test_gender=test_gender.drop(['PassengerId'],axis=1)?\n",
    "\n",
    "#pd.concat([test_gender,])?"
   ]
  },
  {
   "cell_type": "code",
   "execution_count": 87,
   "metadata": {
    "scrolled": true
   },
   "outputs": [],
   "source": [
    "\n",
    "X_train= train.drop(\"Survived\",axis=1)\n",
    "Y_train= train[\"Survived\"]\n"
   ]
  },
  {
   "cell_type": "code",
   "execution_count": 88,
   "metadata": {},
   "outputs": [],
   "source": [
    "m = X_train.shape[0] \n",
    "x0 = np.ones(m)\n",
    "B=np.zeros(8)\n",
    "X_train.insert(0,'col_of_1',1)\n"
   ]
  },
  {
   "cell_type": "code",
   "execution_count": 89,
   "metadata": {},
   "outputs": [
    {
     "data": {
      "text/plain": [
       "(891, 8)"
      ]
     },
     "execution_count": 89,
     "metadata": {},
     "output_type": "execute_result"
    }
   ],
   "source": [
    "alpha=0.001\n",
    "iterations=1000\n",
    "X_train.shape\n"
   ]
  },
  {
   "cell_type": "code",
   "execution_count": 90,
   "metadata": {},
   "outputs": [],
   "source": [
    "def sigmoid(X_train,B):\n",
    "    result_sigmoid  = 1 /(1+ np.exp(X_train.dot(B)))\n",
    "    return  result_sigmoid"
   ]
  },
  {
   "cell_type": "code",
   "execution_count": 91,
   "metadata": {},
   "outputs": [],
   "source": [
    " \n",
    "m=len(Y_train)\n",
    "\n",
    "def cost_function(X_train,Y_train,B):\n",
    "    h=sigmoid(X_train,B)\n",
    "    a=np.log(h)\n",
    "    b=np.log(1-h)\n",
    "    c=Y_train.T\n",
    "    d= (1-Y_train).T\n",
    "    cost_function=(1/m)*(c*h-b*d)\n",
    "    return cost_function\n",
    "\n"
   ]
  },
  {
   "cell_type": "code",
   "execution_count": null,
   "metadata": {},
   "outputs": [],
   "source": [
    "\n",
    "\n",
    "\n"
   ]
  },
  {
   "cell_type": "code",
   "execution_count": 92,
   "metadata": {},
   "outputs": [],
   "source": [
    "#features;X_train ;(891,8)\n",
    "#labels :Y_train; (891,)\n",
    "#weights ;B ;(8,)\n",
    "\n",
    "\n",
    "def gradient_descent(X_train, Y_train, B, alpha,iterations):\n",
    "    cost_history=[0]*iterations\n",
    "    m =len(X_train)\n",
    "    for iteration in range(iterations):\n",
    "\n",
    "        h = cost_function(X_train,Y_train,B)\n",
    "        loss = h-Y_train\n",
    "    #derivative of gradient\n",
    "        gradient = X_train.T.dot(loss)/m\n",
    "        gradient /= m\n",
    "        B = B - alpha*gradient\n",
    "        cost = cost_function(X_train,Y_train,B)\n",
    "        cost_history[iteration]=cost\n",
    "    \n",
    "    return B,cost_history\n",
    "\n"
   ]
  },
  {
   "cell_type": "code",
   "execution_count": 93,
   "metadata": {
    "scrolled": true
   },
   "outputs": [
    {
     "data": {
      "text/plain": [
       "col_of_1    0.000430\n",
       "Pclass      0.000839\n",
       "Sex         0.000293\n",
       "Age         0.012282\n",
       "SibSp       0.000204\n",
       "Parch       0.000200\n",
       "Fare        0.020835\n",
       "Embarked    0.000193\n",
       "dtype: float64"
      ]
     },
     "execution_count": 93,
     "metadata": {},
     "output_type": "execute_result"
    }
   ],
   "source": [
    "newB,cost_history= gradient_descent(X_train, Y_train, B, alpha,iterations)\n",
    "    #decision boundary(prob)\n",
    "newB\n"
   ]
  },
  {
   "cell_type": "code",
   "execution_count": 94,
   "metadata": {},
   "outputs": [],
   "source": [
    "test.insert(0,'col_of_1',1)"
   ]
  },
  {
   "cell_type": "code",
   "execution_count": null,
   "metadata": {},
   "outputs": [],
   "source": []
  },
  {
   "cell_type": "code",
   "execution_count": 95,
   "metadata": {},
   "outputs": [
    {
     "data": {
      "text/plain": [
       "0      0.356591\n",
       "1      0.325951\n",
       "2      0.275712\n",
       "3      0.374010\n",
       "4      0.370548\n",
       "5      0.409241\n",
       "6      0.370272\n",
       "7      0.283722\n",
       "8      0.407301\n",
       "9      0.317680\n",
       "10     0.368357\n",
       "11     0.248250\n",
       "12     0.119380\n",
       "13     0.211183\n",
       "14     0.135447\n",
       "15     0.294185\n",
       "16     0.334103\n",
       "17     0.398528\n",
       "18     0.377498\n",
       "19     0.330336\n",
       "20     0.128442\n",
       "21     0.455183\n",
       "22     0.262404\n",
       "23     0.176762\n",
       "24     0.002332\n",
       "25     0.285086\n",
       "26     0.173142\n",
       "27     0.394121\n",
       "28     0.242262\n",
       "29     0.304268\n",
       "         ...   \n",
       "388    0.395863\n",
       "389    0.373658\n",
       "390    0.096926\n",
       "391    0.190145\n",
       "392    0.357799\n",
       "393    0.310423\n",
       "394    0.306010\n",
       "395    0.186492\n",
       "396    0.389560\n",
       "397    0.096054\n",
       "398    0.392897\n",
       "399    0.366977\n",
       "400    0.021773\n",
       "401    0.287701\n",
       "402    0.180971\n",
       "403    0.233007\n",
       "404    0.248361\n",
       "405    0.368938\n",
       "406    0.376701\n",
       "407    0.006544\n",
       "408    0.369048\n",
       "409    0.418850\n",
       "410    0.368906\n",
       "411    0.088526\n",
       "412    0.375396\n",
       "413    0.367610\n",
       "414    0.060102\n",
       "415    0.348221\n",
       "416    0.367610\n",
       "417    0.301282\n",
       "Length: 418, dtype: float64"
      ]
     },
     "execution_count": 95,
     "metadata": {},
     "output_type": "execute_result"
    }
   ],
   "source": [
    "h=sigmoid(test,newB)\n",
    "h"
   ]
  },
  {
   "cell_type": "code",
   "execution_count": null,
   "metadata": {},
   "outputs": [],
   "source": [
    "\n"
   ]
  },
  {
   "cell_type": "code",
   "execution_count": 96,
   "metadata": {},
   "outputs": [],
   "source": [
    "def decision_boundary(h):\n",
    "    if h>=0.5 :\n",
    "        x=1\n",
    "    else :\n",
    "        x=0        \n",
    "    return x \n",
    "\n",
    "\n",
    "\n",
    "\n",
    "\n",
    "\n"
   ]
  },
  {
   "cell_type": "code",
   "execution_count": null,
   "metadata": {},
   "outputs": [],
   "source": []
  },
  {
   "cell_type": "code",
   "execution_count": null,
   "metadata": {},
   "outputs": [],
   "source": []
  },
  {
   "cell_type": "code",
   "execution_count": null,
   "metadata": {},
   "outputs": [],
   "source": []
  }
 ],
 "metadata": {
  "kernelspec": {
   "display_name": "Python 3",
   "language": "python",
   "name": "python3"
  },
  "language_info": {
   "codemirror_mode": {
    "name": "ipython",
    "version": 3
   },
   "file_extension": ".py",
   "mimetype": "text/x-python",
   "name": "python",
   "nbconvert_exporter": "python",
   "pygments_lexer": "ipython3",
   "version": "3.6.8"
  }
 },
 "nbformat": 4,
 "nbformat_minor": 2
}
