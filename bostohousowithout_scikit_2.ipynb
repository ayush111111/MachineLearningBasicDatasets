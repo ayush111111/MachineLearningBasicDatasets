{
 "cells": [
  {
   "cell_type": "code",
   "execution_count": 130,
   "metadata": {},
   "outputs": [],
   "source": [
    "import numpy as np\n",
    "import matplotlib.pyplot as plt\n"
   ]
  },
  {
   "cell_type": "code",
   "execution_count": 131,
   "metadata": {},
   "outputs": [
    {
     "name": "stdout",
     "output_type": "stream",
     "text": [
      "[[  6.32000000e-03   1.80000000e+01   2.31000000e+00 ...,   3.96900000e+02\n",
      "    4.98000000e+00   2.40000000e+01]\n",
      " [  2.73100000e-02   0.00000000e+00   7.07000000e+00 ...,   3.96900000e+02\n",
      "    9.14000000e+00   2.16000000e+01]\n",
      " [  2.72900000e-02   0.00000000e+00   7.07000000e+00 ...,   3.92830000e+02\n",
      "    4.03000000e+00   3.47000000e+01]\n",
      " ..., \n",
      " [  6.07600000e-02   0.00000000e+00   1.19300000e+01 ...,   3.96900000e+02\n",
      "    5.64000000e+00   2.39000000e+01]\n",
      " [  1.09590000e-01   0.00000000e+00   1.19300000e+01 ...,   3.93450000e+02\n",
      "    6.48000000e+00   2.20000000e+01]\n",
      " [  4.74100000e-02   0.00000000e+00   1.19300000e+01 ...,   3.96900000e+02\n",
      "    7.88000000e+00   1.19000000e+01]]\n"
     ]
    }
   ],
   "source": [
    "dataset = np.loadtxt('housing.csv')#default delimiter whitespace\n",
    "print(dataset)"
   ]
  },
  {
   "cell_type": "code",
   "execution_count": null,
   "metadata": {},
   "outputs": [],
   "source": []
  },
  {
   "cell_type": "code",
   "execution_count": 159,
   "metadata": {},
   "outputs": [
    {
     "data": {
      "text/plain": [
       "(506, 13)"
      ]
     },
     "execution_count": 159,
     "metadata": {},
     "output_type": "execute_result"
    }
   ],
   "source": [
    "x = dataset[:, 1:]\n",
    "#[rows,columns(1st one skipped as it has column names)]\n",
    "x.shape"
   ]
  },
  {
   "cell_type": "code",
   "execution_count": 163,
   "metadata": {
    "scrolled": true
   },
   "outputs": [],
   "source": [
    "r=0.8*(x.shape[0])\n",
    "r=int(r)\n",
    "train_data = x[:r]#number of rows data split into 80,20 %\n",
    "test_data = x[r:] \n"
   ]
  },
  {
   "cell_type": "code",
   "execution_count": 164,
   "metadata": {},
   "outputs": [],
   "source": [
    "train_data = (train_data - np.mean(train_data, axis=0)) / np.std(train_data, axis=0)\n",
    "#axis zero represents along columuns\n",
    "#standardization of data helps gradient descent get to convergence faster\n"
   ]
  },
  {
   "cell_type": "code",
   "execution_count": 165,
   "metadata": {},
   "outputs": [],
   "source": [
    "y = dataset[:404, -1]\n",
    "y_soln=dataset[404:, -1]"
   ]
  },
  {
   "cell_type": "code",
   "execution_count": 166,
   "metadata": {},
   "outputs": [],
   "source": [
    "\n",
    "train_data = np.insert(train_data, 0, 1, axis=1) #it represents constant term in the equation of h ie weight of x0\n"
   ]
  },
  {
   "cell_type": "code",
   "execution_count": null,
   "metadata": {},
   "outputs": [],
   "source": []
  },
  {
   "cell_type": "code",
   "execution_count": 167,
   "metadata": {},
   "outputs": [],
   "source": [
    "y = np.reshape(y, (y.shape[0], 1))\n",
    "#y.shape[0] is number of rows in y"
   ]
  },
  {
   "cell_type": "code",
   "execution_count": null,
   "metadata": {},
   "outputs": [],
   "source": []
  },
  {
   "cell_type": "code",
   "execution_count": 168,
   "metadata": {},
   "outputs": [],
   "source": [
    "alpha = 0.01 # Learning rate\n",
    "iterations = 1000 # Number of iterations to train over\n",
    "theta = np.ones((train_data.shape[1], 1)) # Initial weights set to 1 as theta is weight matrix\n",
    "\n",
    "m = y.shape[0] # Number of training examples \n",
    "\n",
    "cost_history = np.zeros(iterations) # Initialize cost history values"
   ]
  },
  {
   "cell_type": "code",
   "execution_count": 169,
   "metadata": {},
   "outputs": [],
   "source": [
    "h = np.dot(train_data, theta)\n"
   ]
  },
  {
   "cell_type": "code",
   "execution_count": null,
   "metadata": {},
   "outputs": [],
   "source": []
  },
  {
   "cell_type": "code",
   "execution_count": 170,
   "metadata": {},
   "outputs": [],
   "source": [
    "for i in range(iterations): \n",
    "    h = np.dot(train_data, theta)\n",
    "    residuals = h - y\n",
    "    squared_error = np.dot(residuals.T, residuals)\n",
    "    cost = 1.0/(2*m) * squared_error \n",
    "\n",
    "    gradient = 1.0/m * np.dot(residuals.T, train_data).T # Calculate derivative()\n",
    "    theta -= (alpha * gradient) # Update weights\n",
    "\n",
    "    cost_history[i] = cost # Store the cost for this iteration\n",
    "\n"
   ]
  },
  {
   "cell_type": "code",
   "execution_count": 184,
   "metadata": {},
   "outputs": [
    {
     "data": {
      "image/png": "[encoded data removed]",
      "text/plain": [
       "<matplotlib.figure.Figure at 0x7fa9f9ef85f8>"
      ]
     },
     "metadata": {},
     "output_type": "display_data"
    }
   ],
   "source": [
    "plt.plot(range(1, len(cost_history)+1), cost_history)\n",
    "\n",
    "plt.xlim(1, len(cost_history))\n",
    "plt.ylim(0, max(cost_history))\n",
    "plt.title(\"Training Curve\")\n",
    "plt.xlabel(\"Iteration \")\n",
    "plt.ylabel(\"Cost\")\n",
    "plt.show()"
   ]
  },
  {
   "cell_type": "code",
   "execution_count": 172,
   "metadata": {},
   "outputs": [],
   "source": [
    "\n",
    "\n",
    "test_data = np.insert(test_data, 0, 1, axis=1)\n",
    "#for the constant thing,should have split data after adding row of 1s\n",
    "y_soln = np.reshape(y_soln, (y_soln.shape[0], 1))"
   ]
  },
  {
   "cell_type": "code",
   "execution_count": 173,
   "metadata": {},
   "outputs": [
    {
     "data": {
      "text/plain": [
       "(14, 1)"
      ]
     },
     "execution_count": 173,
     "metadata": {},
     "output_type": "execute_result"
    }
   ],
   "source": [
    "theta.shape"
   ]
  },
  {
   "cell_type": "code",
   "execution_count": 183,
   "metadata": {},
   "outputs": [
    {
     "data": {
      "text/plain": [
       "array([[ 79.74698482]])"
      ]
     },
     "execution_count": 183,
     "metadata": {},
     "output_type": "execute_result"
    }
   ],
   "source": [
    "h = np.dot(test_data, theta)\n",
    "residuals = h - y_soln\n",
    "squared_error = np.dot(residuals.T, residuals)#mean_square_error\n",
    "rmse=np.sqrt(squared_error/y_soln.shape[0])\n",
    "rmse"
   ]
  },
  {
   "cell_type": "code",
   "execution_count": null,
   "metadata": {},
   "outputs": [],
   "source": []
  },
  {
   "cell_type": "code",
   "execution_count": null,
   "metadata": {},
   "outputs": [],
   "source": [
    "\n"
   ]
  },
  {
   "cell_type": "code",
   "execution_count": null,
   "metadata": {},
   "outputs": [],
   "source": []
  }
 ],
 "metadata": {
  "kernelspec": {
   "display_name": "Python 3",
   "language": "python",
   "name": "python3"
  },
  "language_info": {
   "codemirror_mode": {
    "name": "ipython",
    "version": 3
   },
   "file_extension": ".py",
   "mimetype": "text/x-python",
   "name": "python",
   "nbconvert_exporter": "python",
   "pygments_lexer": "ipython3",
   "version": "3.6.8"
  }
 },
 "nbformat": 4,
 "nbformat_minor": 2
}
